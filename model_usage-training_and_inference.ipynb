{
 "cells": [
  {
   "cell_type": "code",
   "execution_count": null,
   "metadata": {},
   "outputs": [],
   "source": [
    "import numpy as np\n",
    "import matplotlib.pyplot as plt\n",
    "%matplotlib inline\n",
    "import cv2"
   ]
  },
  {
   "cell_type": "code",
   "execution_count": null,
   "metadata": {},
   "outputs": [],
   "source": [
    "import tensorflow as tf\n",
    "from keras import backend as K\n",
    "from keras.optimizers import Adam\n",
    "from keras.callbacks import EarlyStopping, ModelCheckpoint, ReduceLROnPlateau\n",
    "K.set_learning_phase(0)"
   ]
  },
  {
   "cell_type": "code",
   "execution_count": null,
   "metadata": {},
   "outputs": [],
   "source": [
    "from keras.utils.np_utils import to_categorical"
   ]
  },
  {
   "cell_type": "code",
   "execution_count": null,
   "metadata": {},
   "outputs": [],
   "source": [
    "from MNISTSeqGen import MNISTSeqGen"
   ]
  },
  {
   "cell_type": "code",
   "execution_count": null,
   "metadata": {
    "scrolled": true
   },
   "outputs": [],
   "source": [
    "from Model import build_Model"
   ]
  },
  {
   "cell_type": "markdown",
   "metadata": {},
   "source": [
    "# Create Data Generators"
   ]
  },
  {
   "cell_type": "code",
   "execution_count": null,
   "metadata": {},
   "outputs": [],
   "source": [
    "base_gen = MNISTSeqGen(seq_length=9)\n",
    "clean_train_gen = base_gen.train_generate(batch_size=32, should_blur=False)\n",
    "train_gen = base_gen.train_generate(batch_size=32, should_blur=True, probability=0.5)\n",
    "val_gen = base_gen.val_generate(batch_size=32)"
   ]
  },
  {
   "cell_type": "code",
   "execution_count": null,
   "metadata": {
    "scrolled": true
   },
   "outputs": [],
   "source": [
    "model_clean = build_Model(num_classes=10, seq_lenght=9)\n",
    "model_clean.summary()"
   ]
  },
  {
   "cell_type": "markdown",
   "metadata": {},
   "source": [
    "# Callbacks and Training"
   ]
  },
  {
   "cell_type": "code",
   "execution_count": null,
   "metadata": {
    "scrolled": true
   },
   "outputs": [],
   "source": [
    "model_checkpoint = ModelCheckpoint(filepath='mnistseq_epoch-{epoch:02d}_loss-{loss:.4f}_val_loss-{val_loss:.4f}.h5',\n",
    "                                   monitor='val_loss',\n",
    "                                   verbose=1,\n",
    "                                   save_weights_only=False,\n",
    "                                   mode='auto',\n",
    "                                   period=1)\n",
    "\n",
    "\n",
    "early = EarlyStopping(monitor='val_loss', patience=10, verbose=1)\n",
    "\n",
    "reduce_learning_rate = ReduceLROnPlateau(monitor='val_loss',\n",
    "                                         factor=0.2,\n",
    "                                         patience=5,\n",
    "                                         verbose=1,\n",
    "                                         cooldown=0,\n",
    "                                         min_lr=0.00001)\n",
    "\n",
    "callbacks = [model_checkpoint,\n",
    "             early,\n",
    "             reduce_learning_rate]\n",
    "\n",
    "model_clean.fit_generator(clean_train_gen, steps_per_epoch=int(base_gen.x_train.shape[0]/32),\n",
    "                          epochs=25, callbacks=callbacks, validation_data=val_gen,\n",
    "                          validation_steps=int(base_gen.x_val.shape[0]/32))"
   ]
  },
  {
   "cell_type": "markdown",
   "metadata": {},
   "source": [
    "# Predictions Visualization"
   ]
  },
  {
   "cell_type": "code",
   "execution_count": null,
   "metadata": {},
   "outputs": [],
   "source": [
    "val_images, val_labels = next(val_gen)\n",
    "predictions_categorical = model.predict(val_images)"
   ]
  },
  {
   "cell_type": "code",
   "execution_count": null,
   "metadata": {},
   "outputs": [],
   "source": [
    "ind = 6\n",
    "sample_image, sequence_label_categorical = val_images[ind], val_labels[ind]\n",
    "prediction = predictions_categorical[ind]\n",
    "prediction = np.argmax(prediction, axis=1)\n",
    "sequence_label = np.argmax(sequence_label_categorical, axis=1)\n",
    "sample_image_plt = sample_image.reshape(28, 252)\n",
    "plt.imshow(sample_image_plt)\n",
    "print(\"image label {}, model prediction {}\".format(sequence_label, prediction))"
   ]
  },
  {
   "cell_type": "markdown",
   "metadata": {},
   "source": [
    "# Train model with blurred data"
   ]
  },
  {
   "cell_type": "code",
   "execution_count": null,
   "metadata": {},
   "outputs": [],
   "source": [
    "blurred_model = build_Model(num_classes=10, seq_lenght=9)"
   ]
  },
  {
   "cell_type": "code",
   "execution_count": null,
   "metadata": {},
   "outputs": [],
   "source": [
    "blurred_model.fit_generator(train_gen, steps_per_epoch=int(base_gen.x_train.shape[0]/32),\n",
    "                            epochs=25, callbacks=callbacks, validation_data=val_gen,\n",
    "                            validation_steps=int(base_gen.x_val.shape[0]/32))"
   ]
  },
  {
   "cell_type": "markdown",
   "metadata": {},
   "source": [
    "# Predictions Visualization\n",
    "Use the following code after you've trained a model with decent loss/accuracy"
   ]
  },
  {
   "cell_type": "code",
   "execution_count": null,
   "metadata": {},
   "outputs": [],
   "source": [
    "val_blur_gen = base_gen.val_generate(batch_size=32, should_blur=True)\n",
    "val_images, val_labels = next(val_blur_gen)\n",
    "predictions_categorical = blurred_model.predict(val_images)"
   ]
  },
  {
   "cell_type": "code",
   "execution_count": null,
   "metadata": {
    "scrolled": true
   },
   "outputs": [],
   "source": [
    "ind = 0\n",
    "sample_image, sequence_label_categorical = val_images[ind], val_labels[ind]\n",
    "prediction = predictions_categorical[ind]\n",
    "prediction = np.argmax(prediction, axis=1)\n",
    "sequence_label = np.argmax(sequence_label_categorical, axis=1)\n",
    "sample_image_plt = sample_image.reshape(28, 252)\n",
    "plt.imshow(sample_image_plt)\n",
    "sequence_label, prediction"
   ]
  },
  {
   "cell_type": "code",
   "execution_count": null,
   "metadata": {
    "scrolled": true
   },
   "outputs": [],
   "source": [
    "blurred_model.evaluate_generator(val_blur_gen, steps=int(base_gen.x_val.shape[0]/32))"
   ]
  },
  {
   "cell_type": "markdown",
   "metadata": {},
   "source": [
    "# Pretrained model ... on the house\n",
    "To load a pretrained model"
   ]
  },
  {
   "cell_type": "code",
   "execution_count": null,
   "metadata": {},
   "outputs": [],
   "source": [
    "from keras.models import load_model\n",
    "pretrained = load_model('mnistseq_epoch-25_loss-0.1905_val_loss-0.1133.h5')\n"
   ]
  },
  {
   "cell_type": "code",
   "execution_count": null,
   "metadata": {},
   "outputs": [],
   "source": [
    "val_blur_gen = base_gen.val_generate(batch_size=32, should_blur=True)\n",
    "val_images, val_labels = next(val_blur_gen)\n",
    "predictions_categorical = pretrained.predict(val_images)"
   ]
  },
  {
   "cell_type": "code",
   "execution_count": null,
   "metadata": {},
   "outputs": [],
   "source": [
    "ind = 3\n",
    "sample_image, sequence_label_categorical = val_images[ind], val_labels[ind]\n",
    "prediction = predictions_categorical[ind]\n",
    "prediction = np.argmax(prediction, axis=1)\n",
    "sequence_label = np.argmax(sequence_label_categorical, axis=1)\n",
    "sample_image_plt = sample_image.reshape(28, 252)\n",
    "plt.imshow(sample_image_plt)\n",
    "sequence_label, prediction"
   ]
  },
  {
   "cell_type": "code",
   "execution_count": null,
   "metadata": {},
   "outputs": [],
   "source": [
    "pretrained.evaluate_generator(val_blur_gen, steps=int(base_gen.x_val.shape[0]/32))"
   ]
  },
  {
   "cell_type": "code",
   "execution_count": null,
   "metadata": {},
   "outputs": [],
   "source": []
  }
 ],
 "metadata": {
  "kernelspec": {
   "display_name": "Python 3",
   "language": "python",
   "name": "python3"
  },
  "language_info": {
   "codemirror_mode": {
    "name": "ipython",
    "version": 3
   },
   "file_extension": ".py",
   "mimetype": "text/x-python",
   "name": "python",
   "nbconvert_exporter": "python",
   "pygments_lexer": "ipython3",
   "version": "3.6.5"
  }
 },
 "nbformat": 4,
 "nbformat_minor": 2
}
